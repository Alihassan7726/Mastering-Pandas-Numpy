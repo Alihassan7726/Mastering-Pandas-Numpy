{
 "cells": [
  {
   "cell_type": "code",
   "execution_count": 1,
   "metadata": {},
   "outputs": [],
   "source": [
    "import pandas as pd\n",
    "import numpy as np"
   ]
  },
  {
   "cell_type": "code",
   "execution_count": 2,
   "metadata": {},
   "outputs": [
    {
     "data": {
      "text/plain": [
       "array([[ 8, 93, 43, ...,  2, 49, 79],\n",
       "       [78, 62, 93, ..., 14, 84, 43],\n",
       "       [19, 52, 61, ...,  2,  8, 60],\n",
       "       ...,\n",
       "       [72, 45, 43, ..., 96, 39, 93],\n",
       "       [39, 42, 35, ..., 27, 29, 28],\n",
       "       [ 9,  8, 11, ..., 28,  5, 59]])"
      ]
     },
     "execution_count": 2,
     "metadata": {},
     "output_type": "execute_result"
    }
   ],
   "source": [
    "n_rows = 10000000\n",
    "n_cols = 100\n",
    "data = np.random.randint(1,100 , size = (n_rows , n_cols))\n",
    "data"
   ]
  },
  {
   "cell_type": "code",
   "execution_count": 12,
   "metadata": {},
   "outputs": [
    {
     "name": "stdout",
     "output_type": "stream",
     "text": [
      "(10000000, 100)\n"
     ]
    }
   ],
   "source": [
    "print(data.shape)\n"
   ]
  },
  {
   "cell_type": "code",
   "execution_count": null,
   "metadata": {},
   "outputs": [
    {
     "name": "stdout",
     "output_type": "stream",
     "text": [
      "col_10\n"
     ]
    }
   ],
   "source": [
    "df = pd.DataFrame(data , columns = [\"col_%d\" % i for i in range(n_cols) ])\n",
    "print(\"col_%d\" %10)\n",
    "df"
   ]
  },
  {
   "cell_type": "code",
   "execution_count": null,
   "metadata": {},
   "outputs": [],
   "source": []
  }
 ],
 "metadata": {
  "kernelspec": {
   "display_name": "Python 3",
   "language": "python",
   "name": "python3"
  },
  "language_info": {
   "codemirror_mode": {
    "name": "ipython",
    "version": 3
   },
   "file_extension": ".py",
   "mimetype": "text/x-python",
   "name": "python",
   "nbconvert_exporter": "python",
   "pygments_lexer": "ipython3",
   "version": "3.8.5"
  }
 },
 "nbformat": 4,
 "nbformat_minor": 4
}

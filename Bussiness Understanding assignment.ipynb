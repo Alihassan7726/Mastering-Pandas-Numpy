{
 "cells": [
  {
   "cell_type": "code",
   "execution_count": 2,
   "metadata": {},
   "outputs": [],
   "source": [
    "import pandas as pd\n",
    "import numpy as np\n",
    "import matplotlib.pyplot as plt\n",
    "import seaborn as sns"
   ]
  },
  {
   "cell_type": "code",
   "execution_count": 3,
   "metadata": {},
   "outputs": [
    {
     "name": "stdout",
     "output_type": "stream",
     "text": [
      "C:\\Users\\Ali\\Downloads\n"
     ]
    }
   ],
   "source": [
    "cd Downloads/"
   ]
  },
  {
   "cell_type": "code",
   "execution_count": 4,
   "metadata": {},
   "outputs": [],
   "source": [
    "client = pd.read_excel('Client.xlsx')"
   ]
  },
  {
   "cell_type": "code",
   "execution_count": 5,
   "metadata": {},
   "outputs": [
    {
     "data": {
      "text/html": [
       "<div>\n",
       "<style scoped>\n",
       "    .dataframe tbody tr th:only-of-type {\n",
       "        vertical-align: middle;\n",
       "    }\n",
       "\n",
       "    .dataframe tbody tr th {\n",
       "        vertical-align: top;\n",
       "    }\n",
       "\n",
       "    .dataframe thead th {\n",
       "        text-align: right;\n",
       "    }\n",
       "</style>\n",
       "<table border=\"1\" class=\"dataframe\">\n",
       "  <thead>\n",
       "    <tr style=\"text-align: right;\">\n",
       "      <th></th>\n",
       "      <th>name</th>\n",
       "      <th>reg_no</th>\n",
       "      <th>Date_of_registration</th>\n",
       "      <th>residence</th>\n",
       "      <th>phone</th>\n",
       "      <th>date_of_appointment</th>\n",
       "      <th>cancelled</th>\n",
       "      <th>date_of_cancellation</th>\n",
       "      <th>Day_of_cancellation</th>\n",
       "      <th>location</th>\n",
       "    </tr>\n",
       "  </thead>\n",
       "  <tbody>\n",
       "    <tr>\n",
       "      <th>0</th>\n",
       "      <td>Ali</td>\n",
       "      <td>7726</td>\n",
       "      <td>2014-06-04 20:00:00</td>\n",
       "      <td>Hafizabad</td>\n",
       "      <td>923127726119</td>\n",
       "      <td>2014-10-04 17:00:00</td>\n",
       "      <td>NaN</td>\n",
       "      <td>NaT</td>\n",
       "      <td>NaN</td>\n",
       "      <td>City</td>\n",
       "    </tr>\n",
       "    <tr>\n",
       "      <th>1</th>\n",
       "      <td>Ahmad</td>\n",
       "      <td>7704</td>\n",
       "      <td>2014-06-04 21:00:00</td>\n",
       "      <td>Faisalabad</td>\n",
       "      <td>9231227725105</td>\n",
       "      <td>2014-10-04 18:00:00</td>\n",
       "      <td>NaN</td>\n",
       "      <td>NaT</td>\n",
       "      <td>NaN</td>\n",
       "      <td>city district</td>\n",
       "    </tr>\n",
       "    <tr>\n",
       "      <th>2</th>\n",
       "      <td>Manan</td>\n",
       "      <td>4526</td>\n",
       "      <td>2014-06-04 17:00:00</td>\n",
       "      <td>Hafizabad</td>\n",
       "      <td>923236529104</td>\n",
       "      <td>2014-10-04 13:00:00</td>\n",
       "      <td>Yes</td>\n",
       "      <td>2014-09-04 21:00:00</td>\n",
       "      <td>Tue</td>\n",
       "      <td>city district</td>\n",
       "    </tr>\n",
       "    <tr>\n",
       "      <th>3</th>\n",
       "      <td>Saima</td>\n",
       "      <td>3575</td>\n",
       "      <td>2014-09-04 00:00:00</td>\n",
       "      <td>Gujranwala</td>\n",
       "      <td>923135743744</td>\n",
       "      <td>pending</td>\n",
       "      <td>Yes</td>\n",
       "      <td>2014-09-04 19:00:00</td>\n",
       "      <td>Tue</td>\n",
       "      <td>far</td>\n",
       "    </tr>\n",
       "    <tr>\n",
       "      <th>4</th>\n",
       "      <td>Asad</td>\n",
       "      <td>4528</td>\n",
       "      <td>2014-06-04 09:00:00</td>\n",
       "      <td>Vihari</td>\n",
       "      <td>9231226510292</td>\n",
       "      <td>2014-10-04 16:00:00</td>\n",
       "      <td>NaN</td>\n",
       "      <td>NaT</td>\n",
       "      <td>NaN</td>\n",
       "      <td>far</td>\n",
       "    </tr>\n",
       "  </tbody>\n",
       "</table>\n",
       "</div>"
      ],
      "text/plain": [
       "    name  reg_no Date_of_registration   residence          phone  \\\n",
       "0    Ali    7726  2014-06-04 20:00:00   Hafizabad   923127726119   \n",
       "1  Ahmad    7704  2014-06-04 21:00:00  Faisalabad  9231227725105   \n",
       "2  Manan    4526  2014-06-04 17:00:00   Hafizabad   923236529104   \n",
       "3  Saima    3575  2014-09-04 00:00:00  Gujranwala   923135743744   \n",
       "4   Asad    4528  2014-06-04 09:00:00      Vihari  9231226510292   \n",
       "\n",
       "   date_of_appointment cancelled date_of_cancellation Day_of_cancellation  \\\n",
       "0  2014-10-04 17:00:00       NaN                  NaT                 NaN   \n",
       "1  2014-10-04 18:00:00       NaN                  NaT                 NaN   \n",
       "2  2014-10-04 13:00:00       Yes  2014-09-04 21:00:00                 Tue   \n",
       "3              pending       Yes  2014-09-04 19:00:00                 Tue   \n",
       "4  2014-10-04 16:00:00       NaN                  NaT                 NaN   \n",
       "\n",
       "        location  \n",
       "0           City  \n",
       "1  city district  \n",
       "2  city district  \n",
       "3            far  \n",
       "4            far  "
      ]
     },
     "execution_count": 5,
     "metadata": {},
     "output_type": "execute_result"
    }
   ],
   "source": [
    "client.head()"
   ]
  },
  {
   "cell_type": "code",
   "execution_count": 6,
   "metadata": {},
   "outputs": [
    {
     "data": {
      "text/html": [
       "<div>\n",
       "<style scoped>\n",
       "    .dataframe tbody tr th:only-of-type {\n",
       "        vertical-align: middle;\n",
       "    }\n",
       "\n",
       "    .dataframe tbody tr th {\n",
       "        vertical-align: top;\n",
       "    }\n",
       "\n",
       "    .dataframe thead th {\n",
       "        text-align: right;\n",
       "    }\n",
       "</style>\n",
       "<table border=\"1\" class=\"dataframe\">\n",
       "  <thead>\n",
       "    <tr style=\"text-align: right;\">\n",
       "      <th></th>\n",
       "      <th>reg_no</th>\n",
       "      <th>phone</th>\n",
       "    </tr>\n",
       "  </thead>\n",
       "  <tbody>\n",
       "    <tr>\n",
       "      <th>count</th>\n",
       "      <td>43.000000</td>\n",
       "      <td>4.300000e+01</td>\n",
       "    </tr>\n",
       "    <tr>\n",
       "      <th>mean</th>\n",
       "      <td>4840.744186</td>\n",
       "      <td>4.405454e+12</td>\n",
       "    </tr>\n",
       "    <tr>\n",
       "      <th>std</th>\n",
       "      <td>1765.025065</td>\n",
       "      <td>4.152142e+12</td>\n",
       "    </tr>\n",
       "    <tr>\n",
       "      <th>min</th>\n",
       "      <td>1034.000000</td>\n",
       "      <td>9.231277e+11</td>\n",
       "    </tr>\n",
       "    <tr>\n",
       "      <th>25%</th>\n",
       "      <td>3473.000000</td>\n",
       "      <td>9.234757e+11</td>\n",
       "    </tr>\n",
       "    <tr>\n",
       "      <th>50%</th>\n",
       "      <td>4587.000000</td>\n",
       "      <td>9.236875e+11</td>\n",
       "    </tr>\n",
       "    <tr>\n",
       "      <th>75%</th>\n",
       "      <td>6230.500000</td>\n",
       "      <td>9.235231e+12</td>\n",
       "    </tr>\n",
       "    <tr>\n",
       "      <th>max</th>\n",
       "      <td>7756.000000</td>\n",
       "      <td>9.351833e+12</td>\n",
       "    </tr>\n",
       "  </tbody>\n",
       "</table>\n",
       "</div>"
      ],
      "text/plain": [
       "            reg_no         phone\n",
       "count    43.000000  4.300000e+01\n",
       "mean   4840.744186  4.405454e+12\n",
       "std    1765.025065  4.152142e+12\n",
       "min    1034.000000  9.231277e+11\n",
       "25%    3473.000000  9.234757e+11\n",
       "50%    4587.000000  9.236875e+11\n",
       "75%    6230.500000  9.235231e+12\n",
       "max    7756.000000  9.351833e+12"
      ]
     },
     "execution_count": 6,
     "metadata": {},
     "output_type": "execute_result"
    }
   ],
   "source": [
    "client.describe()"
   ]
  },
  {
   "cell_type": "code",
   "execution_count": 7,
   "metadata": {},
   "outputs": [
    {
     "data": {
      "text/plain": [
       "name                            object\n",
       "reg_no                           int64\n",
       "Date_of_registration    datetime64[ns]\n",
       "residence                       object\n",
       "phone                            int64\n",
       "date_of_appointment             object\n",
       "cancelled                       object\n",
       "date_of_cancellation    datetime64[ns]\n",
       "Day_of_cancellation             object\n",
       "location                        object\n",
       "dtype: object"
      ]
     },
     "execution_count": 7,
     "metadata": {},
     "output_type": "execute_result"
    }
   ],
   "source": [
    "client.dtypes"
   ]
  },
  {
   "cell_type": "code",
   "execution_count": 8,
   "metadata": {},
   "outputs": [
    {
     "data": {
      "text/plain": [
       "(43, 10)"
      ]
     },
     "execution_count": 8,
     "metadata": {},
     "output_type": "execute_result"
    }
   ],
   "source": [
    "client.shape"
   ]
  },
  {
   "cell_type": "code",
   "execution_count": 9,
   "metadata": {},
   "outputs": [
    {
     "data": {
      "text/plain": [
       "Yes    8\n",
       "Name: cancelled, dtype: int64"
      ]
     },
     "execution_count": 9,
     "metadata": {},
     "output_type": "execute_result"
    }
   ],
   "source": [
    "client.cancelled.value_counts()"
   ]
  },
  {
   "cell_type": "code",
   "execution_count": null,
   "metadata": {},
   "outputs": [],
   "source": []
  },
  {
   "cell_type": "code",
   "execution_count": 10,
   "metadata": {},
   "outputs": [
    {
     "data": {
      "text/html": [
       "<div>\n",
       "<style scoped>\n",
       "    .dataframe tbody tr th:only-of-type {\n",
       "        vertical-align: middle;\n",
       "    }\n",
       "\n",
       "    .dataframe tbody tr th {\n",
       "        vertical-align: top;\n",
       "    }\n",
       "\n",
       "    .dataframe thead th {\n",
       "        text-align: right;\n",
       "    }\n",
       "</style>\n",
       "<table border=\"1\" class=\"dataframe\">\n",
       "  <thead>\n",
       "    <tr style=\"text-align: right;\">\n",
       "      <th></th>\n",
       "      <th>name</th>\n",
       "      <th>reg_no</th>\n",
       "      <th>Date_of_registration</th>\n",
       "      <th>residence</th>\n",
       "      <th>phone</th>\n",
       "      <th>date_of_appointment</th>\n",
       "      <th>cancelled</th>\n",
       "      <th>date_of_cancellation</th>\n",
       "      <th>Day_of_cancellation</th>\n",
       "      <th>location</th>\n",
       "    </tr>\n",
       "  </thead>\n",
       "  <tbody>\n",
       "    <tr>\n",
       "      <th>0</th>\n",
       "      <td>Ali</td>\n",
       "      <td>7726</td>\n",
       "      <td>2014-06-04 20:00:00</td>\n",
       "      <td>Hafizabad</td>\n",
       "      <td>923127726119</td>\n",
       "      <td>2014-10-04 17:00:00</td>\n",
       "      <td>NaN</td>\n",
       "      <td>NaT</td>\n",
       "      <td>NaN</td>\n",
       "      <td>City</td>\n",
       "    </tr>\n",
       "    <tr>\n",
       "      <th>1</th>\n",
       "      <td>Ahmad</td>\n",
       "      <td>7704</td>\n",
       "      <td>2014-06-04 21:00:00</td>\n",
       "      <td>Faisalabad</td>\n",
       "      <td>9231227725105</td>\n",
       "      <td>2014-10-04 18:00:00</td>\n",
       "      <td>NaN</td>\n",
       "      <td>NaT</td>\n",
       "      <td>NaN</td>\n",
       "      <td>city district</td>\n",
       "    </tr>\n",
       "    <tr>\n",
       "      <th>2</th>\n",
       "      <td>Manan</td>\n",
       "      <td>4526</td>\n",
       "      <td>2014-06-04 17:00:00</td>\n",
       "      <td>Hafizabad</td>\n",
       "      <td>923236529104</td>\n",
       "      <td>2014-10-04 13:00:00</td>\n",
       "      <td>Yes</td>\n",
       "      <td>2014-09-04 21:00:00</td>\n",
       "      <td>Tue</td>\n",
       "      <td>city district</td>\n",
       "    </tr>\n",
       "  </tbody>\n",
       "</table>\n",
       "</div>"
      ],
      "text/plain": [
       "    name  reg_no Date_of_registration   residence          phone  \\\n",
       "0    Ali    7726  2014-06-04 20:00:00   Hafizabad   923127726119   \n",
       "1  Ahmad    7704  2014-06-04 21:00:00  Faisalabad  9231227725105   \n",
       "2  Manan    4526  2014-06-04 17:00:00   Hafizabad   923236529104   \n",
       "\n",
       "   date_of_appointment cancelled date_of_cancellation Day_of_cancellation  \\\n",
       "0  2014-10-04 17:00:00       NaN                  NaT                 NaN   \n",
       "1  2014-10-04 18:00:00       NaN                  NaT                 NaN   \n",
       "2  2014-10-04 13:00:00       Yes  2014-09-04 21:00:00                 Tue   \n",
       "\n",
       "        location  \n",
       "0           City  \n",
       "1  city district  \n",
       "2  city district  "
      ]
     },
     "execution_count": 10,
     "metadata": {},
     "output_type": "execute_result"
    }
   ],
   "source": [
    "client.head(3)"
   ]
  },
  {
   "cell_type": "code",
   "execution_count": 11,
   "metadata": {},
   "outputs": [
    {
     "data": {
      "text/plain": [
       "<matplotlib.axes._subplots.AxesSubplot at 0x225a1f56400>"
      ]
     },
     "execution_count": 11,
     "metadata": {},
     "output_type": "execute_result"
    },
    {
     "data": {
      "image/png": "[encoded data removed]",
      "text/plain": [
       "<Figure size 432x288 with 1 Axes>"
      ]
     },
     "metadata": {
      "needs_background": "light"
     },
     "output_type": "display_data"
    }
   ],
   "source": [
    "sns.countplot(client.cancelled, hue=client.location)"
   ]
  },
  {
   "cell_type": "code",
   "execution_count": 12,
   "metadata": {},
   "outputs": [
    {
     "data": {
      "text/plain": [
       "city district    16\n",
       "far              14\n",
       "City             12\n",
       "City              1\n",
       "Name: location, dtype: int64"
      ]
     },
     "execution_count": 12,
     "metadata": {},
     "output_type": "execute_result"
    }
   ],
   "source": [
    "client.location.value_counts()"
   ]
  },
  {
   "cell_type": "code",
   "execution_count": 13,
   "metadata": {},
   "outputs": [
    {
     "data": {
      "text/plain": [
       "<matplotlib.axes._subplots.AxesSubplot at 0x225a26a24c0>"
      ]
     },
     "execution_count": 13,
     "metadata": {},
     "output_type": "execute_result"
    },
    {
     "data": {
      "image/png": "[encoded data removed]",
      "text/plain": [
       "<Figure size 432x360 with 1 Axes>"
      ]
     },
     "metadata": {
      "needs_background": "light"
     },
     "output_type": "display_data"
    }
   ],
   "source": [
    "plt.figure(figsize=(6,5))\n",
    "sns.countplot(client.cancelled , hue=client.Day_of_cancellation)"
   ]
  },
  {
   "cell_type": "code",
   "execution_count": 14,
   "metadata": {},
   "outputs": [
    {
     "data": {
      "text/plain": [
       "pending                20\n",
       "2014-11-04 11:00:00     2\n",
       "2014-11-04 10:00:00     1\n",
       "2014-11-04 14:00:00     1\n",
       "2014-10-04 16:00:00     1\n",
       "2014-10-04 10:00:00     1\n",
       "2014-10-04 14:00:00     1\n",
       "2014-11-04 13:00:00     1\n",
       "2014-10-04 09:00:00     1\n",
       "2014-10-04 11:00:00     1\n",
       "2014-10-04 17:00:00     1\n",
       "2014-11-04 15:00:00     1\n",
       "2014-10-04 13:00:00     1\n",
       "2014-11-04 12:00:00     1\n",
       "2014-11-04 16:00:00     1\n",
       "2014-11-04 08:00:00     1\n",
       "2014-10-04 12:00:00     1\n",
       "2014-11-04 09:00:00     1\n",
       "2014-10-04 15:00:00     1\n",
       "2014-10-04 18:00:00     1\n",
       "2014-11-04 18:00:00     1\n",
       "2014-11-04 17:00:00     1\n",
       "2014-10-04 08:00:00     1\n",
       "Name: date_of_appointment, dtype: int64"
      ]
     },
     "execution_count": 14,
     "metadata": {},
     "output_type": "execute_result"
    }
   ],
   "source": [
    "client.date_of_appointment.value_counts()"
   ]
  },
  {
   "cell_type": "code",
   "execution_count": null,
   "metadata": {},
   "outputs": [],
   "source": []
  },
  {
   "cell_type": "code",
   "execution_count": 15,
   "metadata": {},
   "outputs": [
    {
     "data": {
      "text/html": [
       "<div>\n",
       "<style scoped>\n",
       "    .dataframe tbody tr th:only-of-type {\n",
       "        vertical-align: middle;\n",
       "    }\n",
       "\n",
       "    .dataframe tbody tr th {\n",
       "        vertical-align: top;\n",
       "    }\n",
       "\n",
       "    .dataframe thead th {\n",
       "        text-align: right;\n",
       "    }\n",
       "</style>\n",
       "<table border=\"1\" class=\"dataframe\">\n",
       "  <thead>\n",
       "    <tr style=\"text-align: right;\">\n",
       "      <th></th>\n",
       "      <th>name</th>\n",
       "      <th>reg_no</th>\n",
       "      <th>Date_of_registration</th>\n",
       "      <th>residence</th>\n",
       "      <th>phone</th>\n",
       "      <th>date_of_appointment</th>\n",
       "      <th>cancelled</th>\n",
       "      <th>date_of_cancellation</th>\n",
       "      <th>Day_of_cancellation</th>\n",
       "      <th>location</th>\n",
       "    </tr>\n",
       "  </thead>\n",
       "  <tbody>\n",
       "    <tr>\n",
       "      <th>3</th>\n",
       "      <td>Saima</td>\n",
       "      <td>3575</td>\n",
       "      <td>2014-09-04 00:00:00</td>\n",
       "      <td>Gujranwala</td>\n",
       "      <td>923135743744</td>\n",
       "      <td>pending</td>\n",
       "      <td>Yes</td>\n",
       "      <td>2014-09-04 19:00:00</td>\n",
       "      <td>Tue</td>\n",
       "      <td>far</td>\n",
       "    </tr>\n",
       "    <tr>\n",
       "      <th>5</th>\n",
       "      <td>Ali</td>\n",
       "      <td>3644</td>\n",
       "      <td>2014-07-04 10:00:00</td>\n",
       "      <td>Jhang</td>\n",
       "      <td>9235784947593</td>\n",
       "      <td>pending</td>\n",
       "      <td>NaN</td>\n",
       "      <td>NaT</td>\n",
       "      <td>NaN</td>\n",
       "      <td>far</td>\n",
       "    </tr>\n",
       "    <tr>\n",
       "      <th>6</th>\n",
       "      <td>Huzaifa</td>\n",
       "      <td>7383</td>\n",
       "      <td>2014-07-04 12:00:00</td>\n",
       "      <td>Newyork</td>\n",
       "      <td>9236740476937</td>\n",
       "      <td>pending</td>\n",
       "      <td>NaN</td>\n",
       "      <td>NaT</td>\n",
       "      <td>NaN</td>\n",
       "      <td>City</td>\n",
       "    </tr>\n",
       "    <tr>\n",
       "      <th>7</th>\n",
       "      <td>Saleem</td>\n",
       "      <td>6739</td>\n",
       "      <td>2014-07-04 20:00:00</td>\n",
       "      <td>Mohenjo</td>\n",
       "      <td>923687509474</td>\n",
       "      <td>pending</td>\n",
       "      <td>NaN</td>\n",
       "      <td>NaT</td>\n",
       "      <td>NaN</td>\n",
       "      <td>city district</td>\n",
       "    </tr>\n",
       "    <tr>\n",
       "      <th>8</th>\n",
       "      <td>Ishfag</td>\n",
       "      <td>6739</td>\n",
       "      <td>2014-09-04 14:00:00</td>\n",
       "      <td>Sahiwal</td>\n",
       "      <td>9234669347594</td>\n",
       "      <td>pending</td>\n",
       "      <td>NaN</td>\n",
       "      <td>NaT</td>\n",
       "      <td>NaN</td>\n",
       "      <td>City</td>\n",
       "    </tr>\n",
       "  </tbody>\n",
       "</table>\n",
       "</div>"
      ],
      "text/plain": [
       "      name  reg_no Date_of_registration   residence          phone  \\\n",
       "3    Saima    3575  2014-09-04 00:00:00  Gujranwala   923135743744   \n",
       "5      Ali    3644  2014-07-04 10:00:00       Jhang  9235784947593   \n",
       "6  Huzaifa    7383  2014-07-04 12:00:00     Newyork  9236740476937   \n",
       "7   Saleem    6739  2014-07-04 20:00:00     Mohenjo   923687509474   \n",
       "8   Ishfag    6739  2014-09-04 14:00:00     Sahiwal  9234669347594   \n",
       "\n",
       "  date_of_appointment cancelled date_of_cancellation Day_of_cancellation  \\\n",
       "3             pending       Yes  2014-09-04 19:00:00                 Tue   \n",
       "5             pending       NaN                  NaT                 NaN   \n",
       "6             pending       NaN                  NaT                 NaN   \n",
       "7             pending       NaN                  NaT                 NaN   \n",
       "8             pending       NaN                  NaT                 NaN   \n",
       "\n",
       "        location  \n",
       "3            far  \n",
       "5            far  \n",
       "6           City  \n",
       "7  city district  \n",
       "8           City  "
      ]
     },
     "execution_count": 15,
     "metadata": {},
     "output_type": "execute_result"
    }
   ],
   "source": [
    "client[(client.date_of_appointment.isin(['pending']))].head()"
   ]
  },
  {
   "cell_type": "code",
   "execution_count": 16,
   "metadata": {},
   "outputs": [],
   "source": [
    "#client.replace(to_replace=(client.location.isin(['far'])),value='further')\n",
    "client.location = np.where(client.location == 'Far located','Far',client.location)"
   ]
  },
  {
   "cell_type": "code",
   "execution_count": 17,
   "metadata": {},
   "outputs": [
    {
     "data": {
      "text/html": [
       "<div>\n",
       "<style scoped>\n",
       "    .dataframe tbody tr th:only-of-type {\n",
       "        vertical-align: middle;\n",
       "    }\n",
       "\n",
       "    .dataframe tbody tr th {\n",
       "        vertical-align: top;\n",
       "    }\n",
       "\n",
       "    .dataframe thead th {\n",
       "        text-align: right;\n",
       "    }\n",
       "</style>\n",
       "<table border=\"1\" class=\"dataframe\">\n",
       "  <thead>\n",
       "    <tr style=\"text-align: right;\">\n",
       "      <th></th>\n",
       "      <th>name</th>\n",
       "      <th>reg_no</th>\n",
       "      <th>Date_of_registration</th>\n",
       "      <th>residence</th>\n",
       "      <th>phone</th>\n",
       "      <th>date_of_appointment</th>\n",
       "      <th>cancelled</th>\n",
       "      <th>date_of_cancellation</th>\n",
       "      <th>Day_of_cancellation</th>\n",
       "      <th>location</th>\n",
       "    </tr>\n",
       "  </thead>\n",
       "  <tbody>\n",
       "    <tr>\n",
       "      <th>0</th>\n",
       "      <td>Ali</td>\n",
       "      <td>7726</td>\n",
       "      <td>2014-06-04 20:00:00</td>\n",
       "      <td>Hafizabad</td>\n",
       "      <td>923127726119</td>\n",
       "      <td>2014-10-04 17:00:00</td>\n",
       "      <td>NaN</td>\n",
       "      <td>NaT</td>\n",
       "      <td>NaN</td>\n",
       "      <td>City</td>\n",
       "    </tr>\n",
       "    <tr>\n",
       "      <th>1</th>\n",
       "      <td>Ahmad</td>\n",
       "      <td>7704</td>\n",
       "      <td>2014-06-04 21:00:00</td>\n",
       "      <td>Faisalabad</td>\n",
       "      <td>9231227725105</td>\n",
       "      <td>2014-10-04 18:00:00</td>\n",
       "      <td>NaN</td>\n",
       "      <td>NaT</td>\n",
       "      <td>NaN</td>\n",
       "      <td>city district</td>\n",
       "    </tr>\n",
       "    <tr>\n",
       "      <th>2</th>\n",
       "      <td>Manan</td>\n",
       "      <td>4526</td>\n",
       "      <td>2014-06-04 17:00:00</td>\n",
       "      <td>Hafizabad</td>\n",
       "      <td>923236529104</td>\n",
       "      <td>2014-10-04 13:00:00</td>\n",
       "      <td>Yes</td>\n",
       "      <td>2014-09-04 21:00:00</td>\n",
       "      <td>Tue</td>\n",
       "      <td>city district</td>\n",
       "    </tr>\n",
       "    <tr>\n",
       "      <th>3</th>\n",
       "      <td>Saima</td>\n",
       "      <td>3575</td>\n",
       "      <td>2014-09-04 00:00:00</td>\n",
       "      <td>Gujranwala</td>\n",
       "      <td>923135743744</td>\n",
       "      <td>pending</td>\n",
       "      <td>Yes</td>\n",
       "      <td>2014-09-04 19:00:00</td>\n",
       "      <td>Tue</td>\n",
       "      <td>far</td>\n",
       "    </tr>\n",
       "    <tr>\n",
       "      <th>4</th>\n",
       "      <td>Asad</td>\n",
       "      <td>4528</td>\n",
       "      <td>2014-06-04 09:00:00</td>\n",
       "      <td>Vihari</td>\n",
       "      <td>9231226510292</td>\n",
       "      <td>2014-10-04 16:00:00</td>\n",
       "      <td>NaN</td>\n",
       "      <td>NaT</td>\n",
       "      <td>NaN</td>\n",
       "      <td>far</td>\n",
       "    </tr>\n",
       "  </tbody>\n",
       "</table>\n",
       "</div>"
      ],
      "text/plain": [
       "    name  reg_no Date_of_registration   residence          phone  \\\n",
       "0    Ali    7726  2014-06-04 20:00:00   Hafizabad   923127726119   \n",
       "1  Ahmad    7704  2014-06-04 21:00:00  Faisalabad  9231227725105   \n",
       "2  Manan    4526  2014-06-04 17:00:00   Hafizabad   923236529104   \n",
       "3  Saima    3575  2014-09-04 00:00:00  Gujranwala   923135743744   \n",
       "4   Asad    4528  2014-06-04 09:00:00      Vihari  9231226510292   \n",
       "\n",
       "   date_of_appointment cancelled date_of_cancellation Day_of_cancellation  \\\n",
       "0  2014-10-04 17:00:00       NaN                  NaT                 NaN   \n",
       "1  2014-10-04 18:00:00       NaN                  NaT                 NaN   \n",
       "2  2014-10-04 13:00:00       Yes  2014-09-04 21:00:00                 Tue   \n",
       "3              pending       Yes  2014-09-04 19:00:00                 Tue   \n",
       "4  2014-10-04 16:00:00       NaN                  NaT                 NaN   \n",
       "\n",
       "        location  \n",
       "0           City  \n",
       "1  city district  \n",
       "2  city district  \n",
       "3            far  \n",
       "4            far  "
      ]
     },
     "execution_count": 17,
     "metadata": {},
     "output_type": "execute_result"
    }
   ],
   "source": [
    "client.head()"
   ]
  },
  {
   "cell_type": "code",
   "execution_count": 18,
   "metadata": {},
   "outputs": [
    {
     "data": {
      "text/plain": [
       "<matplotlib.axes._subplots.AxesSubplot at 0x225a2729eb0>"
      ]
     },
     "execution_count": 18,
     "metadata": {},
     "output_type": "execute_result"
    },
    {
     "data": {
      "image/png": "[encoded data removed]",
      "text/plain": [
       "<Figure size 432x288 with 1 Axes>"
      ]
     },
     "metadata": {
      "needs_background": "light"
     },
     "output_type": "display_data"
    }
   ],
   "source": [
    "sns.countplot(client.residence, hue=client.cancelled)"
   ]
  },
  {
   "cell_type": "code",
   "execution_count": 19,
   "metadata": {},
   "outputs": [],
   "source": [
    "client = client.fillna(value=0)"
   ]
  },
  {
   "cell_type": "code",
   "execution_count": 20,
   "metadata": {},
   "outputs": [
    {
     "data": {
      "text/html": [
       "<div>\n",
       "<style scoped>\n",
       "    .dataframe tbody tr th:only-of-type {\n",
       "        vertical-align: middle;\n",
       "    }\n",
       "\n",
       "    .dataframe tbody tr th {\n",
       "        vertical-align: top;\n",
       "    }\n",
       "\n",
       "    .dataframe thead th {\n",
       "        text-align: right;\n",
       "    }\n",
       "</style>\n",
       "<table border=\"1\" class=\"dataframe\">\n",
       "  <thead>\n",
       "    <tr style=\"text-align: right;\">\n",
       "      <th></th>\n",
       "      <th>name</th>\n",
       "      <th>reg_no</th>\n",
       "      <th>Date_of_registration</th>\n",
       "      <th>residence</th>\n",
       "      <th>phone</th>\n",
       "      <th>date_of_appointment</th>\n",
       "      <th>cancelled</th>\n",
       "      <th>date_of_cancellation</th>\n",
       "      <th>Day_of_cancellation</th>\n",
       "      <th>location</th>\n",
       "    </tr>\n",
       "  </thead>\n",
       "  <tbody>\n",
       "    <tr>\n",
       "      <th>0</th>\n",
       "      <td>Ali</td>\n",
       "      <td>7726</td>\n",
       "      <td>2014-06-04 20:00:00</td>\n",
       "      <td>Hafizabad</td>\n",
       "      <td>923127726119</td>\n",
       "      <td>2014-10-04 17:00:00</td>\n",
       "      <td>0</td>\n",
       "      <td>0</td>\n",
       "      <td>0</td>\n",
       "      <td>City</td>\n",
       "    </tr>\n",
       "    <tr>\n",
       "      <th>1</th>\n",
       "      <td>Ahmad</td>\n",
       "      <td>7704</td>\n",
       "      <td>2014-06-04 21:00:00</td>\n",
       "      <td>Faisalabad</td>\n",
       "      <td>9231227725105</td>\n",
       "      <td>2014-10-04 18:00:00</td>\n",
       "      <td>0</td>\n",
       "      <td>0</td>\n",
       "      <td>0</td>\n",
       "      <td>city district</td>\n",
       "    </tr>\n",
       "    <tr>\n",
       "      <th>2</th>\n",
       "      <td>Manan</td>\n",
       "      <td>4526</td>\n",
       "      <td>2014-06-04 17:00:00</td>\n",
       "      <td>Hafizabad</td>\n",
       "      <td>923236529104</td>\n",
       "      <td>2014-10-04 13:00:00</td>\n",
       "      <td>Yes</td>\n",
       "      <td>2014-09-04 21:00:00</td>\n",
       "      <td>Tue</td>\n",
       "      <td>city district</td>\n",
       "    </tr>\n",
       "    <tr>\n",
       "      <th>3</th>\n",
       "      <td>Saima</td>\n",
       "      <td>3575</td>\n",
       "      <td>2014-09-04 00:00:00</td>\n",
       "      <td>Gujranwala</td>\n",
       "      <td>923135743744</td>\n",
       "      <td>pending</td>\n",
       "      <td>Yes</td>\n",
       "      <td>2014-09-04 19:00:00</td>\n",
       "      <td>Tue</td>\n",
       "      <td>far</td>\n",
       "    </tr>\n",
       "    <tr>\n",
       "      <th>4</th>\n",
       "      <td>Asad</td>\n",
       "      <td>4528</td>\n",
       "      <td>2014-06-04 09:00:00</td>\n",
       "      <td>Vihari</td>\n",
       "      <td>9231226510292</td>\n",
       "      <td>2014-10-04 16:00:00</td>\n",
       "      <td>0</td>\n",
       "      <td>0</td>\n",
       "      <td>0</td>\n",
       "      <td>far</td>\n",
       "    </tr>\n",
       "  </tbody>\n",
       "</table>\n",
       "</div>"
      ],
      "text/plain": [
       "    name  reg_no Date_of_registration   residence          phone  \\\n",
       "0    Ali    7726  2014-06-04 20:00:00   Hafizabad   923127726119   \n",
       "1  Ahmad    7704  2014-06-04 21:00:00  Faisalabad  9231227725105   \n",
       "2  Manan    4526  2014-06-04 17:00:00   Hafizabad   923236529104   \n",
       "3  Saima    3575  2014-09-04 00:00:00  Gujranwala   923135743744   \n",
       "4   Asad    4528  2014-06-04 09:00:00      Vihari  9231226510292   \n",
       "\n",
       "   date_of_appointment cancelled date_of_cancellation Day_of_cancellation  \\\n",
       "0  2014-10-04 17:00:00         0                    0                   0   \n",
       "1  2014-10-04 18:00:00         0                    0                   0   \n",
       "2  2014-10-04 13:00:00       Yes  2014-09-04 21:00:00                 Tue   \n",
       "3              pending       Yes  2014-09-04 19:00:00                 Tue   \n",
       "4  2014-10-04 16:00:00         0                    0                   0   \n",
       "\n",
       "        location  \n",
       "0           City  \n",
       "1  city district  \n",
       "2  city district  \n",
       "3            far  \n",
       "4            far  "
      ]
     },
     "execution_count": 20,
     "metadata": {},
     "output_type": "execute_result"
    }
   ],
   "source": [
    "client.head()"
   ]
  },
  {
   "cell_type": "code",
   "execution_count": 21,
   "metadata": {},
   "outputs": [
    {
     "data": {
      "text/plain": [
       "<matplotlib.axes._subplots.AxesSubplot at 0x225a27b2130>"
      ]
     },
     "execution_count": 21,
     "metadata": {},
     "output_type": "execute_result"
    },
    {
     "data": {
      "image/png": "[encoded data removed]",
      "text/plain": [
       "<Figure size 432x288 with 1 Axes>"
      ]
     },
     "metadata": {
      "needs_background": "light"
     },
     "output_type": "display_data"
    }
   ],
   "source": [
    "sns.countplot(client.cancelled,palette='muted')"
   ]
  },
  {
   "cell_type": "code",
   "execution_count": 22,
   "metadata": {},
   "outputs": [],
   "source": [
    "c1 = client[(client.cancelled.isin(['Yes']))]"
   ]
  },
  {
   "cell_type": "code",
   "execution_count": 23,
   "metadata": {},
   "outputs": [
    {
     "data": {
      "text/html": [
       "<div>\n",
       "<style scoped>\n",
       "    .dataframe tbody tr th:only-of-type {\n",
       "        vertical-align: middle;\n",
       "    }\n",
       "\n",
       "    .dataframe tbody tr th {\n",
       "        vertical-align: top;\n",
       "    }\n",
       "\n",
       "    .dataframe thead th {\n",
       "        text-align: right;\n",
       "    }\n",
       "</style>\n",
       "<table border=\"1\" class=\"dataframe\">\n",
       "  <thead>\n",
       "    <tr style=\"text-align: right;\">\n",
       "      <th></th>\n",
       "      <th>name</th>\n",
       "      <th>reg_no</th>\n",
       "      <th>Date_of_registration</th>\n",
       "      <th>residence</th>\n",
       "      <th>phone</th>\n",
       "      <th>date_of_appointment</th>\n",
       "      <th>cancelled</th>\n",
       "      <th>date_of_cancellation</th>\n",
       "      <th>Day_of_cancellation</th>\n",
       "      <th>location</th>\n",
       "    </tr>\n",
       "  </thead>\n",
       "  <tbody>\n",
       "    <tr>\n",
       "      <th>2</th>\n",
       "      <td>Manan</td>\n",
       "      <td>4526</td>\n",
       "      <td>2014-06-04 17:00:00</td>\n",
       "      <td>Hafizabad</td>\n",
       "      <td>923236529104</td>\n",
       "      <td>2014-10-04 13:00:00</td>\n",
       "      <td>Yes</td>\n",
       "      <td>2014-09-04 21:00:00</td>\n",
       "      <td>Tue</td>\n",
       "      <td>city district</td>\n",
       "    </tr>\n",
       "    <tr>\n",
       "      <th>3</th>\n",
       "      <td>Saima</td>\n",
       "      <td>3575</td>\n",
       "      <td>2014-09-04 00:00:00</td>\n",
       "      <td>Gujranwala</td>\n",
       "      <td>923135743744</td>\n",
       "      <td>pending</td>\n",
       "      <td>Yes</td>\n",
       "      <td>2014-09-04 19:00:00</td>\n",
       "      <td>Tue</td>\n",
       "      <td>far</td>\n",
       "    </tr>\n",
       "    <tr>\n",
       "      <th>11</th>\n",
       "      <td>geremy</td>\n",
       "      <td>4726</td>\n",
       "      <td>2014-05-04 10:00:00</td>\n",
       "      <td>Sialkot</td>\n",
       "      <td>923294567810</td>\n",
       "      <td>2014-10-04 10:00:00</td>\n",
       "      <td>Yes</td>\n",
       "      <td>2014-10-04 08:00:00</td>\n",
       "      <td>Mon</td>\n",
       "      <td>far</td>\n",
       "    </tr>\n",
       "    <tr>\n",
       "      <th>25</th>\n",
       "      <td>abdullah</td>\n",
       "      <td>4573</td>\n",
       "      <td>2014-07-04 08:30:00</td>\n",
       "      <td>lahore</td>\n",
       "      <td>923184428384</td>\n",
       "      <td>2014-11-04 10:00:00</td>\n",
       "      <td>Yes</td>\n",
       "      <td>2020-11-04 05:00:00</td>\n",
       "      <td>Mon</td>\n",
       "      <td>far</td>\n",
       "    </tr>\n",
       "    <tr>\n",
       "      <th>33</th>\n",
       "      <td>ayesha</td>\n",
       "      <td>4573</td>\n",
       "      <td>2014-07-04 15:00:00</td>\n",
       "      <td>Hafizabad</td>\n",
       "      <td>923194028114</td>\n",
       "      <td>2014-11-04 12:00:00</td>\n",
       "      <td>Yes</td>\n",
       "      <td>0</td>\n",
       "      <td>Fri</td>\n",
       "      <td>City</td>\n",
       "    </tr>\n",
       "  </tbody>\n",
       "</table>\n",
       "</div>"
      ],
      "text/plain": [
       "        name  reg_no Date_of_registration   residence         phone  \\\n",
       "2      Manan    4526  2014-06-04 17:00:00   Hafizabad  923236529104   \n",
       "3      Saima    3575  2014-09-04 00:00:00  Gujranwala  923135743744   \n",
       "11    geremy    4726  2014-05-04 10:00:00     Sialkot  923294567810   \n",
       "25  abdullah    4573  2014-07-04 08:30:00      lahore  923184428384   \n",
       "33    ayesha    4573  2014-07-04 15:00:00   Hafizabad  923194028114   \n",
       "\n",
       "    date_of_appointment cancelled date_of_cancellation Day_of_cancellation  \\\n",
       "2   2014-10-04 13:00:00       Yes  2014-09-04 21:00:00                 Tue   \n",
       "3               pending       Yes  2014-09-04 19:00:00                 Tue   \n",
       "11  2014-10-04 10:00:00       Yes  2014-10-04 08:00:00                 Mon   \n",
       "25  2014-11-04 10:00:00       Yes  2020-11-04 05:00:00                 Mon   \n",
       "33  2014-11-04 12:00:00       Yes                    0                 Fri   \n",
       "\n",
       "         location  \n",
       "2   city district  \n",
       "3             far  \n",
       "11            far  \n",
       "25            far  \n",
       "33           City  "
      ]
     },
     "execution_count": 23,
     "metadata": {},
     "output_type": "execute_result"
    }
   ],
   "source": [
    "c1.head()"
   ]
  },
  {
   "cell_type": "code",
   "execution_count": 24,
   "metadata": {},
   "outputs": [
    {
     "data": {
      "text/plain": [
       "<matplotlib.axes._subplots.AxesSubplot at 0x225a283c7c0>"
      ]
     },
     "execution_count": 24,
     "metadata": {},
     "output_type": "execute_result"
    },
    {
     "data": {
      "image/png": "[encoded data removed]",
      "text/plain": [
       "<Figure size 432x288 with 1 Axes>"
      ]
     },
     "metadata": {
      "needs_background": "light"
     },
     "output_type": "display_data"
    }
   ],
   "source": [
    "sns.countplot(c1.residence, hue=c1.cancelled)"
   ]
  },
  {
   "cell_type": "code",
   "execution_count": 25,
   "metadata": {},
   "outputs": [
    {
     "data": {
      "text/html": [
       "<div>\n",
       "<style scoped>\n",
       "    .dataframe tbody tr th:only-of-type {\n",
       "        vertical-align: middle;\n",
       "    }\n",
       "\n",
       "    .dataframe tbody tr th {\n",
       "        vertical-align: top;\n",
       "    }\n",
       "\n",
       "    .dataframe thead th {\n",
       "        text-align: right;\n",
       "    }\n",
       "</style>\n",
       "<table border=\"1\" class=\"dataframe\">\n",
       "  <thead>\n",
       "    <tr style=\"text-align: right;\">\n",
       "      <th></th>\n",
       "      <th>name</th>\n",
       "      <th>reg_no</th>\n",
       "      <th>Date_of_registration</th>\n",
       "      <th>residence</th>\n",
       "      <th>phone</th>\n",
       "      <th>date_of_appointment</th>\n",
       "      <th>cancelled</th>\n",
       "      <th>date_of_cancellation</th>\n",
       "      <th>Day_of_cancellation</th>\n",
       "      <th>location</th>\n",
       "    </tr>\n",
       "  </thead>\n",
       "  <tbody>\n",
       "    <tr>\n",
       "      <th>0</th>\n",
       "      <td>Ali</td>\n",
       "      <td>7726</td>\n",
       "      <td>2014-06-04 20:00:00</td>\n",
       "      <td>Hafizabad</td>\n",
       "      <td>923127726119</td>\n",
       "      <td>2014-10-04 17:00:00</td>\n",
       "      <td>0</td>\n",
       "      <td>0</td>\n",
       "      <td>0</td>\n",
       "      <td>City</td>\n",
       "    </tr>\n",
       "    <tr>\n",
       "      <th>1</th>\n",
       "      <td>Ahmad</td>\n",
       "      <td>7704</td>\n",
       "      <td>2014-06-04 21:00:00</td>\n",
       "      <td>Faisalabad</td>\n",
       "      <td>9231227725105</td>\n",
       "      <td>2014-10-04 18:00:00</td>\n",
       "      <td>0</td>\n",
       "      <td>0</td>\n",
       "      <td>0</td>\n",
       "      <td>city district</td>\n",
       "    </tr>\n",
       "    <tr>\n",
       "      <th>2</th>\n",
       "      <td>Manan</td>\n",
       "      <td>4526</td>\n",
       "      <td>2014-06-04 17:00:00</td>\n",
       "      <td>Hafizabad</td>\n",
       "      <td>923236529104</td>\n",
       "      <td>2014-10-04 13:00:00</td>\n",
       "      <td>Yes</td>\n",
       "      <td>2014-09-04 21:00:00</td>\n",
       "      <td>Tue</td>\n",
       "      <td>city district</td>\n",
       "    </tr>\n",
       "    <tr>\n",
       "      <th>3</th>\n",
       "      <td>Saima</td>\n",
       "      <td>3575</td>\n",
       "      <td>2014-09-04 00:00:00</td>\n",
       "      <td>Gujranwala</td>\n",
       "      <td>923135743744</td>\n",
       "      <td>pending</td>\n",
       "      <td>Yes</td>\n",
       "      <td>2014-09-04 19:00:00</td>\n",
       "      <td>Tue</td>\n",
       "      <td>far</td>\n",
       "    </tr>\n",
       "    <tr>\n",
       "      <th>4</th>\n",
       "      <td>Asad</td>\n",
       "      <td>4528</td>\n",
       "      <td>2014-06-04 09:00:00</td>\n",
       "      <td>Vihari</td>\n",
       "      <td>9231226510292</td>\n",
       "      <td>2014-10-04 16:00:00</td>\n",
       "      <td>0</td>\n",
       "      <td>0</td>\n",
       "      <td>0</td>\n",
       "      <td>far</td>\n",
       "    </tr>\n",
       "  </tbody>\n",
       "</table>\n",
       "</div>"
      ],
      "text/plain": [
       "    name  reg_no Date_of_registration   residence          phone  \\\n",
       "0    Ali    7726  2014-06-04 20:00:00   Hafizabad   923127726119   \n",
       "1  Ahmad    7704  2014-06-04 21:00:00  Faisalabad  9231227725105   \n",
       "2  Manan    4526  2014-06-04 17:00:00   Hafizabad   923236529104   \n",
       "3  Saima    3575  2014-09-04 00:00:00  Gujranwala   923135743744   \n",
       "4   Asad    4528  2014-06-04 09:00:00      Vihari  9231226510292   \n",
       "\n",
       "   date_of_appointment cancelled date_of_cancellation Day_of_cancellation  \\\n",
       "0  2014-10-04 17:00:00         0                    0                   0   \n",
       "1  2014-10-04 18:00:00         0                    0                   0   \n",
       "2  2014-10-04 13:00:00       Yes  2014-09-04 21:00:00                 Tue   \n",
       "3              pending       Yes  2014-09-04 19:00:00                 Tue   \n",
       "4  2014-10-04 16:00:00         0                    0                   0   \n",
       "\n",
       "        location  \n",
       "0           City  \n",
       "1  city district  \n",
       "2  city district  \n",
       "3            far  \n",
       "4            far  "
      ]
     },
     "execution_count": 25,
     "metadata": {},
     "output_type": "execute_result"
    }
   ],
   "source": [
    "client.head()"
   ]
  },
  {
   "cell_type": "code",
   "execution_count": null,
   "metadata": {},
   "outputs": [],
   "source": []
  }
 ],
 "metadata": {
  "kernelspec": {
   "display_name": "Python 3",
   "language": "python",
   "name": "python3"
  },
  "language_info": {
   "codemirror_mode": {
    "name": "ipython",
    "version": 3
   },
   "file_extension": ".py",
   "mimetype": "text/x-python",
   "name": "python",
   "nbconvert_exporter": "python",
   "pygments_lexer": "ipython3",
   "version": "3.8.3"
  }
 },
 "nbformat": 4,
 "nbformat_minor": 4
}
